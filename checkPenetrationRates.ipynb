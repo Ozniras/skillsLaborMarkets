{
 "cells": [
  {
   "cell_type": "code",
   "execution_count": 1,
   "metadata": {},
   "outputs": [],
   "source": [
    "%matplotlib inline\n",
    "import pandas as pd\n",
    "import numpy as np\n",
    "import matplotlib.pyplot as plt\n",
    "import os\n",
    "\n",
    "from IPython.core.interactiveshell import InteractiveShell\n",
    "InteractiveShell.ast_node_interactivity = \"all\""
   ]
  },
  {
   "cell_type": "code",
   "execution_count": 2,
   "metadata": {},
   "outputs": [],
   "source": [
    "def penRates(liOld, liNew, inWhat):\n",
    "    holdList = []\n",
    "    holdName = []\n",
    "    for df in [liOld, liNew]:\n",
    "        skillTotals = df[0].groupby('parent_skill_name').agg({'skill_member_ct' : 'sum'}).rename({'skill_member_ct' : 'penRate'}, axis=1)\n",
    "        memTotal = df[0].groupby(['country_sk', inWhat + '_sk']).agg({'member_ct' : 'max'}).sum().rename({'member_ct' : 'penRate'})\n",
    "        holdDf = skillTotals / memTotal\n",
    "        name='penRate' + str(df[1])\n",
    "        holdList.append(holdDf.rename({'penRate':name}, axis=1))\n",
    "        holdName.append(name)\n",
    "    hold = pd.merge(holdList[0], holdList[1], left_index=True, right_index=True)\n",
    "    hold['ratio'] = hold[holdName[1]] / hold[holdName[0]]\n",
    "    print('Penetration rates in {}, {} / {}:'.format(inWhat, liNew[1], liOld[1]))\n",
    "    print(hold.describe())\n",
    "    \n",
    "    decreasing = hold[hold['ratio'] < 1]\n",
    "    print('\\nDecreasing penetration rates  in {}, {} / {}:'.format(inWhat, liNew[1], liOld[1]))\n",
    "    print(decreasing.describe())\n",
    "    print(decreasing.sort_values('ratio').head())\n",
    "\n",
    "    increasing = hold[hold['ratio'] > 1]\n",
    "    print('\\nIncreasing penetration rates  in {}, {} / {}:'.format(inWhat, liNew[1], liOld[1]))\n",
    "    print(increasing.describe())\n",
    "    print(increasing.sort_values('ratio', ascending=False).head())\n",
    "\n",
    "    name='penRate' + str(liOld[1])\n",
    "    decreasing = hold[(hold['ratio'] < 1) & (hold[name] >= 0.01)]\n",
    "    print('\\nDecreasing penetration rates  in {}, {} / {} for parent skills with at least 1%:'.format(inWhat, liNew[1], liOld[1]))\n",
    "    print(decreasing.describe())\n",
    "    print(decreasing.sort_values(name).head(10))\n",
    "\n",
    "    increasing = hold[(hold['ratio'] > 1) & (hold[name] >= 0.01)]\n",
    "    print('\\nIncreasing penetration rates  in {}, {} / {} for parent skills with at least 1%:'.format(inWhat, liNew[1], liOld[1]))\n",
    "    print(increasing.describe())\n",
    "    print(increasing.sort_values(name, ascending=False).head(10))\n",
    "    #return (hold, decreasing)"
   ]
  },
  {
   "cell_type": "code",
   "execution_count": 3,
   "metadata": {},
   "outputs": [],
   "source": [
    "ind2016 = pd.read_csv('../00_originalData/li_country_industry_parent_skill_supply_demand_2016.tsv', sep='\\t')\n",
    "ind2017 = pd.read_csv('../00_originalData/li_country_industry_parent_skill_supply_demand_2017.tsv', sep='\\t')"
   ]
  },
  {
   "cell_type": "code",
   "execution_count": 4,
   "metadata": {},
   "outputs": [
    {
     "name": "stdout",
     "output_type": "stream",
     "text": [
      "Penetration rates in industry, 2017 / 2016:\n",
      "       penRate2016  penRate2017       ratio\n",
      "count   119.000000   119.000000  119.000000\n",
      "mean      0.042546     0.042421    0.992430\n",
      "std       0.061076     0.061504    0.036893\n",
      "min       0.000034     0.000035    0.946151\n",
      "25%       0.004669     0.004473    0.972731\n",
      "50%       0.017640     0.017624    0.986869\n",
      "75%       0.056538     0.056912    1.004224\n",
      "max       0.312773     0.308261    1.269035\n",
      "\n",
      "Decreasing penetration rates  in industry, 2017 / 2016:\n",
      "       penRate2016  penRate2017      ratio\n",
      "count    82.000000    82.000000  82.000000\n",
      "mean      0.035481     0.034793   0.976448\n",
      "std       0.048798     0.048009   0.012712\n",
      "min       0.000036     0.000035   0.946151\n",
      "25%       0.004999     0.004796   0.965250\n",
      "50%       0.016512     0.016142   0.978690\n",
      "75%       0.046917     0.046573   0.987277\n",
      "max       0.312773     0.308261   0.999082\n",
      "                          penRate2016  penRate2017     ratio\n",
      "parent_skill_name                                           \n",
      "urban_planning               0.003715     0.003514  0.946151\n",
      "business_coaching            0.004452     0.004217  0.947209\n",
      "facility_management_(fm)     0.004688     0.004465  0.952393\n",
      "petroleum_engineering        0.013077     0.012476  0.954047\n",
      "public_policy                0.053375     0.051024  0.955945\n",
      "\n",
      "Increasing penetration rates  in industry, 2017 / 2016:\n",
      "       penRate2016  penRate2017      ratio\n",
      "count    37.000000    37.000000  37.000000\n",
      "mean      0.058204     0.059326   1.027852\n",
      "std       0.080643     0.082381   0.047184\n",
      "min       0.000034     0.000037   1.002144\n",
      "25%       0.003322     0.003395   1.006496\n",
      "50%       0.022284     0.022475   1.011630\n",
      "75%       0.071776     0.072055   1.021734\n",
      "max       0.270547     0.285986   1.269035\n",
      "                   penRate2016  penRate2017     ratio\n",
      "parent_skill_name                                    \n",
      "it_consulting         0.000083     0.000106  1.269035\n",
      "plumbing_design       0.000034     0.000037  1.095945\n",
      "mathematics           0.003146     0.003395  1.079190\n",
      "computer_science      0.005634     0.006071  1.077445\n",
      "childcare             0.002348     0.002503  1.065747\n",
      "\n",
      "Decreasing penetration rates  in industry, 2017 / 2016 for parent skills with at least 1%:\n",
      "       penRate2016  penRate2017      ratio\n",
      "count    52.000000    52.000000  52.000000\n",
      "mean      0.053688     0.052669   0.979649\n",
      "std       0.053421     0.052592   0.011463\n",
      "min       0.010242     0.009962   0.954047\n",
      "25%       0.017635     0.017594   0.973068\n",
      "50%       0.035567     0.034570   0.981453\n",
      "75%       0.083031     0.081507   0.988683\n",
      "max       0.312773     0.308261   0.999082\n",
      "                       penRate2016  penRate2017     ratio\n",
      "parent_skill_name                                        \n",
      "chemistry                 0.010242     0.010143  0.990349\n",
      "materials_science         0.010349     0.009962  0.962688\n",
      "statistics                0.010397     0.010320  0.992584\n",
      "wellness                  0.010456     0.010176  0.973134\n",
      "public_health             0.010723     0.010352  0.965366\n",
      "travel_services           0.011953     0.011877  0.993629\n",
      "petroleum_engineering     0.013077     0.012476  0.954047\n",
      "aviation                  0.014054     0.013727  0.976709\n",
      "fashion_design            0.015164     0.014978  0.987740\n",
      "environmental_science     0.015851     0.015275  0.963665\n",
      "\n",
      "Increasing penetration rates  in industry, 2017 / 2016 for parent skills with at least 1%:\n",
      "       penRate2016  penRate2017      ratio\n",
      "count    21.000000    21.000000  21.000000\n",
      "mean      0.099502     0.101417   1.016978\n",
      "std       0.086936     0.088923   0.013272\n",
      "min       0.018953     0.019322   1.003893\n",
      "25%       0.028948     0.029236   1.008047\n",
      "50%       0.056996     0.059086   1.012066\n",
      "75%       0.165250     0.166323   1.021347\n",
      "max       0.270547     0.285986   1.057066\n",
      "                        penRate2016  penRate2017     ratio\n",
      "parent_skill_name                                         \n",
      "customer_service           0.270547     0.285986  1.057066\n",
      "marketing                  0.267550     0.268739  1.004444\n",
      "project_management         0.242236     0.245159  1.012066\n",
      "sales                      0.225161     0.226927  1.007842\n",
      "media_production           0.179617     0.183306  1.020534\n",
      "software_development       0.165250     0.166323  1.006496\n",
      "analytics                  0.089744     0.093007  1.036353\n",
      "language_arts              0.089538     0.091484  1.021734\n",
      "photography                0.077862     0.079108  1.016006\n",
      "mechanical_engineering     0.071776     0.072055  1.003893\n"
     ]
    }
   ],
   "source": [
    "penRates(liOld=(ind2016, 2016), liNew=(ind2017, 2017), inWhat='industry')"
   ]
  },
  {
   "cell_type": "code",
   "execution_count": 5,
   "metadata": {},
   "outputs": [],
   "source": [
    "city2015 = pd.read_csv('../00_originalData/li_city_parent_skill_supply_demand_2015.tsv', sep='\\t')\n",
    "city2016 = pd.read_csv('../00_originalData/li_city_parent_skill_supply_demand_2016.tsv', sep='\\t')"
   ]
  },
  {
   "cell_type": "code",
   "execution_count": 6,
   "metadata": {},
   "outputs": [
    {
     "name": "stdout",
     "output_type": "stream",
     "text": [
      "Penetration rates in region, 2016 / 2015:\n",
      "       penRate2015  penRate2016       ratio\n",
      "count   119.000000   119.000000  119.000000\n",
      "mean      0.046427     0.045474    0.978711\n",
      "std       0.065678     0.064750    0.023126\n",
      "min       0.000025     0.000028    0.941314\n",
      "25%       0.005719     0.005466    0.965468\n",
      "50%       0.020015     0.020075    0.975222\n",
      "75%       0.060618     0.059033    0.988156\n",
      "max       0.328950     0.319129    1.102553\n",
      "\n",
      "Decreasing penetration rates  in region, 2016 / 2015:\n",
      "       penRate2015  penRate2016       ratio\n",
      "count   105.000000   105.000000  105.000000\n",
      "mean      0.046749     0.045601    0.972614\n",
      "std       0.062629     0.061299    0.012670\n",
      "min       0.000188     0.000180    0.941314\n",
      "25%       0.007550     0.007280    0.964257\n",
      "50%       0.022393     0.021842    0.971638\n",
      "75%       0.061092     0.060161    0.981552\n",
      "max       0.328950     0.319129    0.996362\n",
      "                          penRate2015  penRate2016     ratio\n",
      "parent_skill_name                                           \n",
      "business_coaching            0.005555     0.005229  0.941314\n",
      "instructional_design         0.007972     0.007542  0.946111\n",
      "urban_planning               0.004469     0.004231  0.946857\n",
      "facility_management_(fm)     0.005781     0.005486  0.948934\n",
      "product_management           0.109757     0.104159  0.948999\n",
      "\n",
      "Increasing penetration rates  in region, 2016 / 2015:\n",
      "       penRate2015  penRate2016      ratio\n",
      "count    14.000000    14.000000  14.000000\n",
      "mean      0.044011     0.044527   1.024439\n",
      "std       0.088131     0.089407   0.031905\n",
      "min       0.000025     0.000028   1.000163\n",
      "25%       0.000954     0.000991   1.003009\n",
      "50%       0.003311     0.003439   1.006438\n",
      "75%       0.023856     0.023929   1.034326\n",
      "max       0.288431     0.294407   1.102553\n",
      "                   penRate2015  penRate2016     ratio\n",
      "parent_skill_name                                    \n",
      "plumbing_design       0.000025     0.000028  1.102553\n",
      "mathematics           0.003607     0.003854  1.068451\n",
      "childcare             0.002820     0.002992  1.060959\n",
      "it_consulting         0.000122     0.000126  1.036440\n",
      "funeral_homes         0.000030     0.000031  1.027985\n",
      "\n",
      "Decreasing penetration rates  in region, 2016 / 2015 for parent skills with at least 1%:\n",
      "       penRate2015  penRate2016      ratio\n",
      "count    71.000000    71.000000  71.000000\n",
      "mean      0.066910     0.065280   0.973882\n",
      "std       0.067461     0.066078   0.010897\n",
      "min       0.010007     0.009681   0.948999\n",
      "25%       0.022042     0.021475   0.967009\n",
      "50%       0.042959     0.041445   0.972254\n",
      "75%       0.089514     0.087333   0.980423\n",
      "max       0.328950     0.319129   0.996362\n",
      "                       penRate2015  penRate2016     ratio\n",
      "parent_skill_name                                        \n",
      "personal_coaching         0.010007     0.009681  0.967398\n",
      "alternative_medicine      0.010256     0.009934  0.968634\n",
      "materials_science         0.010826     0.010478  0.967854\n",
      "interior_design           0.011073     0.010783  0.973830\n",
      "chemistry                 0.011231     0.011029  0.981978\n",
      "petroleum_engineering     0.011545     0.011061  0.958080\n",
      "statistics                0.011953     0.011580  0.968794\n",
      "public_health             0.012228     0.011736  0.959791\n",
      "travel_services           0.012240     0.012009  0.981101\n",
      "wellness                  0.012477     0.012144  0.973291\n",
      "\n",
      "Increasing penetration rates  in region, 2016 / 2015 for parent skills with at least 1%:\n",
      "       penRate2015  penRate2016     ratio\n",
      "count     5.000000     5.000000  5.000000\n",
      "mean      0.119349     0.120700  1.007305\n",
      "std       0.119151     0.121188  0.008259\n",
      "min       0.020015     0.020075  1.000163\n",
      "25%       0.025137     0.025214  1.002993\n",
      "50%       0.063916     0.064530  1.003057\n",
      "75%       0.199244     0.199277  1.009595\n",
      "max       0.288431     0.294407  1.020720\n",
      "                           penRate2015  penRate2016     ratio\n",
      "parent_skill_name                                            \n",
      "customer_service              0.288431     0.294407  1.020720\n",
      "media_production              0.199244     0.199277  1.000163\n",
      "administrative_assistance     0.063916     0.064530  1.009595\n",
      "sports                        0.025137     0.025214  1.003057\n",
      "animation                     0.020015     0.020075  1.002993\n"
     ]
    }
   ],
   "source": [
    "penRates(liOld=(city2015, 2015), liNew=(city2016, 2016), inWhat='region')"
   ]
  },
  {
   "cell_type": "code",
   "execution_count": 7,
   "metadata": {},
   "outputs": [],
   "source": [
    "city2017 = pd.read_csv('../00_originalData/li_city_parent_skill_supply_demand_2017.tsv', sep='\\t')"
   ]
  },
  {
   "cell_type": "code",
   "execution_count": 8,
   "metadata": {},
   "outputs": [
    {
     "name": "stdout",
     "output_type": "stream",
     "text": [
      "Penetration rates in region, 2017 / 2016:\n",
      "       penRate2016  penRate2017       ratio\n",
      "count   119.000000   119.000000  119.000000\n",
      "mean      0.045474     0.044529    0.980694\n",
      "std       0.064750     0.063436    0.015810\n",
      "min       0.000028     0.000029    0.956846\n",
      "25%       0.005466     0.005281    0.970164\n",
      "50%       0.020075     0.020091    0.977587\n",
      "75%       0.059033     0.057683    0.988025\n",
      "max       0.319129     0.308729    1.043956\n",
      "\n",
      "Decreasing penetration rates  in region, 2017 / 2016:\n",
      "       penRate2016  penRate2017       ratio\n",
      "count   110.000000   110.000000  110.000000\n",
      "mean      0.048078     0.047045    0.977462\n",
      "std       0.066449     0.065103    0.010197\n",
      "min       0.000031     0.000031    0.956846\n",
      "25%       0.006628     0.006591    0.969791\n",
      "50%       0.021475     0.020915    0.976734\n",
      "75%       0.060556     0.059963    0.984586\n",
      "max       0.319129     0.308729    0.997604\n",
      "                      penRate2016  penRate2017     ratio\n",
      "parent_skill_name                                       \n",
      "business_coaching        0.005229     0.005003  0.956846\n",
      "product_management       0.104159     0.099739  0.957564\n",
      "urban_planning           0.004231     0.004059  0.959234\n",
      "business_development     0.107251     0.102997  0.960333\n",
      "instructional_design     0.007542     0.007244  0.960437\n",
      "\n",
      "Increasing penetration rates  in region, 2017 / 2016:\n",
      "       penRate2016  penRate2017     ratio\n",
      "count     9.000000     9.000000  9.000000\n",
      "mean      0.013646     0.013787  1.020186\n",
      "std       0.021121     0.021372  0.019293\n",
      "min       0.000028     0.000029  1.000783\n",
      "25%       0.002968     0.002971  1.002733\n",
      "50%       0.003025     0.003119  1.013608\n",
      "75%       0.020075     0.020091  1.041103\n",
      "max       0.064530     0.065408  1.043956\n",
      "                           penRate2016  penRate2017     ratio\n",
      "parent_skill_name                                            \n",
      "plumbing_design               0.000028     0.000029  1.043956\n",
      "childcare                     0.002992     0.003119  1.042353\n",
      "mathematics                   0.003854     0.004012  1.041103\n",
      "it_consulting                 0.000126     0.000130  1.031918\n",
      "administrative_assistance     0.064530     0.065408  1.013608\n",
      "\n",
      "Decreasing penetration rates  in region, 2017 / 2016 for parent skills with at least 1%:\n",
      "       penRate2016  penRate2017      ratio\n",
      "count    71.000000    71.000000  71.000000\n",
      "mean      0.071957     0.070415   0.977539\n",
      "std       0.072386     0.070942   0.009259\n",
      "min       0.010478     0.010152   0.957564\n",
      "25%       0.022287     0.021797   0.970164\n",
      "50%       0.047178     0.046341   0.976702\n",
      "75%       0.098063     0.096095   0.982838\n",
      "max       0.319129     0.308729   0.997368\n",
      "                       penRate2016  penRate2017     ratio\n",
      "parent_skill_name                                        \n",
      "materials_science         0.010478     0.010152  0.968829\n",
      "interior_design           0.010783     0.010524  0.975963\n",
      "chemistry                 0.011029     0.010848  0.983570\n",
      "petroleum_engineering     0.011061     0.010681  0.965679\n",
      "statistics                0.011580     0.011234  0.970157\n",
      "public_health             0.011736     0.011326  0.965087\n",
      "travel_services           0.012009     0.011769  0.980023\n",
      "wellness                  0.012144     0.011826  0.973803\n",
      "aviation                  0.015287     0.014871  0.972818\n",
      "environmental_science     0.016389     0.015866  0.968111\n",
      "\n",
      "Increasing penetration rates  in region, 2017 / 2016 for parent skills with at least 1%:\n",
      "       penRate2016  penRate2017     ratio\n",
      "count     3.000000     3.000000  3.000000\n",
      "mean      0.036606     0.036927  1.005708\n",
      "std       0.024319     0.024801  0.006911\n",
      "min       0.020075     0.020091  1.000783\n",
      "25%       0.022644     0.022687  1.001758\n",
      "50%       0.025214     0.025282  1.002733\n",
      "75%       0.044872     0.045345  1.008171\n",
      "max       0.064530     0.065408  1.013608\n",
      "                           penRate2016  penRate2017     ratio\n",
      "parent_skill_name                                            \n",
      "administrative_assistance     0.064530     0.065408  1.013608\n",
      "sports                        0.025214     0.025282  1.002733\n",
      "animation                     0.020075     0.020091  1.000783\n"
     ]
    }
   ],
   "source": [
    "penRates(liOld=(city2016, 2016), liNew=(city2017, 2017), inWhat='region')"
   ]
  },
  {
   "cell_type": "code",
   "execution_count": 9,
   "metadata": {},
   "outputs": [],
   "source": [
    "def skillsPC(df, inWhat):\n",
    "    skillTotals = df['skill_member_ct'].sum()\n",
    "    memTotal = df.groupby(['country_sk', inWhat + '_sk']).agg({'member_ct' : 'max'}).sum()\n",
    "    print(skillTotals / memTotal)"
   ]
  },
  {
   "cell_type": "code",
   "execution_count": 10,
   "metadata": {},
   "outputs": [
    {
     "name": "stdout",
     "output_type": "stream",
     "text": [
      "member_ct    5.06296\n",
      "dtype: float64\n"
     ]
    }
   ],
   "source": [
    "skillsPC(ind2016, 'industry')"
   ]
  },
  {
   "cell_type": "code",
   "execution_count": 11,
   "metadata": {},
   "outputs": [
    {
     "name": "stdout",
     "output_type": "stream",
     "text": [
      "member_ct    5.048061\n",
      "dtype: float64\n"
     ]
    }
   ],
   "source": [
    "skillsPC(ind2017, 'industry')"
   ]
  },
  {
   "cell_type": "code",
   "execution_count": 12,
   "metadata": {},
   "outputs": [
    {
     "name": "stdout",
     "output_type": "stream",
     "text": [
      "member_ct    5.524823\n",
      "dtype: float64\n"
     ]
    }
   ],
   "source": [
    "skillsPC(city2015, 'region')"
   ]
  },
  {
   "cell_type": "code",
   "execution_count": 13,
   "metadata": {},
   "outputs": [
    {
     "name": "stdout",
     "output_type": "stream",
     "text": [
      "member_ct    5.411436\n",
      "dtype: float64\n"
     ]
    }
   ],
   "source": [
    "skillsPC(city2016, 'region')"
   ]
  },
  {
   "cell_type": "code",
   "execution_count": 14,
   "metadata": {},
   "outputs": [
    {
     "name": "stdout",
     "output_type": "stream",
     "text": [
      "member_ct    5.298984\n",
      "dtype: float64\n"
     ]
    }
   ],
   "source": [
    "skillsPC(city2017, 'region')"
   ]
  },
  {
   "cell_type": "code",
   "execution_count": 21,
   "metadata": {},
   "outputs": [],
   "source": [
    "def stratSkills(df=None, inWhat=None):\n",
    "    \n",
    "    skillTotals = df.groupby('parent_skill_name').agg({'skill_member_ct' : 'sum'}).rename({'skill_member_ct' : 'penRate'}, axis=1)\n",
    "    memTotal = df.groupby(['country_sk', inWhat + '_sk']).agg({'member_ct' : 'max'}).sum().rename({'member_ct' : 'penRate'})\n",
    "    penRate = skillTotals / memTotal\n",
    "    return penRate\n",
    "\n",
    "def showStrats(df=None, inWhat=None):\n",
    "    temp = stratSkills(df, inWhat=inWhat)\n",
    "    print(temp.describe())\n",
    "    temp.plot.hist(xlim=(0, 1), bins=119)\n",
    "    return temp\n",
    "    "
   ]
  },
  {
   "cell_type": "code",
   "execution_count": 22,
   "metadata": {},
   "outputs": [
    {
     "name": "stdout",
     "output_type": "stream",
     "text": [
      "          penRate\n",
      "count  119.000000\n",
      "mean     0.055185\n",
      "std      0.079220\n",
      "min      0.000044\n",
      "25%      0.006056\n",
      "50%      0.022881\n",
      "75%      0.073335\n",
      "max      0.405692\n"
     ]
    },
    {
     "data": {
      "image/png": "[encoded data removed]",
      "text/plain": [
       "<matplotlib.figure.Figure at 0x7f8db90010f0>"
      ]
     },
     "metadata": {},
     "output_type": "display_data"
    }
   ],
   "source": [
    "indStrat2016 = showStrats(ind2016, inWhat='industry_grp')"
   ]
  },
  {
   "cell_type": "code",
   "execution_count": 23,
   "metadata": {},
   "outputs": [
    {
     "name": "stdout",
     "output_type": "stream",
     "text": [
      "          penRate\n",
      "count  119.000000\n",
      "mean     0.055031\n",
      "std      0.079788\n",
      "min      0.000045\n",
      "25%      0.005802\n",
      "50%      0.022863\n",
      "75%      0.073831\n",
      "max      0.399901\n"
     ]
    },
    {
     "data": {
      "image/png": "[encoded data removed]",
      "text/plain": [
       "<matplotlib.figure.Figure at 0x7f8db8e7d240>"
      ]
     },
     "metadata": {},
     "output_type": "display_data"
    }
   ],
   "source": [
    "indStrat2017 = showStrats(ind2017, inWhat='industry_grp')"
   ]
  },
  {
   "cell_type": "code",
   "execution_count": 12,
   "metadata": {},
   "outputs": [
    {
     "data": {
      "text/plain": [
       "Index(['printing'], dtype='object', name='parent_skill_name')"
      ]
     },
     "execution_count": 12,
     "metadata": {},
     "output_type": "execute_result"
    },
    {
     "data": {
      "text/plain": [
       "Index(['facility_management_(fm)'], dtype='object', name='parent_skill_name')"
      ]
     },
     "execution_count": 12,
     "metadata": {},
     "output_type": "execute_result"
    }
   ],
   "source": [
    "ind2016niche = indStrat2016[indStrat2016['penRate'] < indStrat2016['penRate'].quantile(q=0.25)]\n",
    "ind2017niche = indStrat2017[indStrat2017['penRate'] < indStrat2017['penRate'].quantile(q=0.25)]\n",
    "ind2016niche.index.difference(ind2017niche.index)\n",
    "ind2017niche.index.difference(ind2016niche.index)"
   ]
  },
  {
   "cell_type": "code",
   "execution_count": 13,
   "metadata": {},
   "outputs": [
    {
     "data": {
      "text/plain": [
       "Index(['electrical_engineering'], dtype='object', name='parent_skill_name')"
      ]
     },
     "execution_count": 13,
     "metadata": {},
     "output_type": "execute_result"
    },
    {
     "data": {
      "text/plain": [
       "Index(['web_design'], dtype='object', name='parent_skill_name')"
      ]
     },
     "execution_count": 13,
     "metadata": {},
     "output_type": "execute_result"
    }
   ],
   "source": [
    "ind2016mass = indStrat2016[indStrat2016['penRate'] > indStrat2016['penRate'].quantile(q=0.75)]\n",
    "ind2017mass = indStrat2017[indStrat2017['penRate'] > indStrat2017['penRate'].quantile(q=0.75)]\n",
    "ind2016mass.index.difference(ind2017mass.index)\n",
    "ind2017mass.index.difference(ind2016mass.index)"
   ]
  },
  {
   "cell_type": "code",
   "execution_count": 14,
   "metadata": {},
   "outputs": [
    {
     "data": {
      "text/plain": [
       "Index(['facility_management_(fm)', 'web_design'], dtype='object', name='parent_skill_name')"
      ]
     },
     "execution_count": 14,
     "metadata": {},
     "output_type": "execute_result"
    },
    {
     "data": {
      "text/plain": [
       "Index(['electrical_engineering', 'printing'], dtype='object', name='parent_skill_name')"
      ]
     },
     "execution_count": 14,
     "metadata": {},
     "output_type": "execute_result"
    }
   ],
   "source": [
    "ind2016mid = indStrat2016[(indStrat2016['penRate'] > indStrat2016['penRate'].quantile(q=0.25)) & (indStrat2016['penRate'] < indStrat2016['penRate'].quantile(q=0.75))]\n",
    "ind2017mid = indStrat2017[(indStrat2017['penRate'] > indStrat2017['penRate'].quantile(q=0.25)) & (indStrat2017['penRate'] < indStrat2017['penRate'].quantile(q=0.75))]\n",
    "ind2016mid.index.difference(ind2017mid.index)\n",
    "ind2017mid.index.difference(ind2016mid.index)"
   ]
  },
  {
   "cell_type": "code",
   "execution_count": 30,
   "metadata": {},
   "outputs": [],
   "source": [
    "allFiles = {'ind2016niche':ind2016niche, 'ind2017niche':ind2017niche,\n",
    "           'ind2016mass':ind2016mass, 'ind2017mass':ind2017mass,\n",
    "           'ind2016mid':ind2016mid, 'ind2017mid':ind2017mid}"
   ]
  },
  {
   "cell_type": "code",
   "execution_count": 31,
   "metadata": {},
   "outputs": [],
   "source": [
    "for filename, file in allFiles.items():\n",
    "    file.to_csv('../02_data/' + filename + '.csv')"
   ]
  },
  {
   "cell_type": "code",
   "execution_count": null,
   "metadata": {},
   "outputs": [],
   "source": []
  }
 ],
 "metadata": {
  "kernelspec": {
   "display_name": "Python 3",
   "language": "python",
   "name": "python3"
  },
  "language_info": {
   "codemirror_mode": {
    "name": "ipython",
    "version": 3
   },
   "file_extension": ".py",
   "mimetype": "text/x-python",
   "name": "python",
   "nbconvert_exporter": "python",
   "pygments_lexer": "ipython3",
   "version": "3.6.4"
  }
 },
 "nbformat": 4,
 "nbformat_minor": 2
}
